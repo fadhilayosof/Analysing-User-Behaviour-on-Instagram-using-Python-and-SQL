{
 "cells": [
  {
   "cell_type": "code",
   "execution_count": null,
   "id": "d31ef919",
   "metadata": {},
   "outputs": [],
   "source": [
    "import pandas as pd\n",
    "import numpy as np\n",
    "import warnings\n",
    "warnings.filterwarnings(\"ignore\")\n"
   ]
  },
  {
   "cell_type": "code",
   "execution_count": null,
   "id": "f6560db5",
   "metadata": {},
   "outputs": [],
   "source": [
    "def read_data_from_csv():\n",
    "    follows=pd.read_csv('follows.csv')\n",
    "    return follows"
   ]
  },
  {
   "cell_type": "code",
   "execution_count": null,
   "id": "adafc66e",
   "metadata": {},
   "outputs": [],
   "source": [
    "def data_cleaning():\n",
    "    #DO NOT REMOVE FOLLOWING LINE\n",
    "    #call remove_unwanted_columns() function to get dataframe\n",
    "    follows=read_data_from_csv()"
   ]
  },
  {
   "cell_type": "code",
   "execution_count": null,
   "id": "be0343bc",
   "metadata": {},
   "outputs": [],
   "source": [
    "#Remove Unwanted columns\n",
    "    follows.drop(['is follower active','followee Acc status'],axis=1, inplace=True);"
   ]
  },
  {
   "cell_type": "code",
   "execution_count": null,
   "id": "c523d708",
   "metadata": {},
   "outputs": [],
   "source": [
    "#rename columns, only these columns are allowed in the dataset\n",
    "    # 1.\tfollower_id\n",
    "    # 2.\tfollowee_id\n",
    "    # 3.\tcreated_at\n",
    "    \n",
    "    follows.rename(columns={\"follower\": \"follower_id\", \"followee \": \"followee_id\", \"created time\": \"created_at\"}, inplace=True)"
   ]
  },
  {
   "cell_type": "code",
   "execution_count": null,
   "id": "7de185b6",
   "metadata": {},
   "outputs": [],
   "source": [
    "follows.to_csv('follows_cleaned.csv')\n",
    "    return follows\n",
    "    "
   ]
  },
  {
   "cell_type": "code",
   "execution_count": null,
   "id": "5d81b6eb",
   "metadata": {},
   "outputs": [],
   "source": [
    "#Do not Delete the Following function\n",
    "def task_runner():\n",
    "    data_cleaning\n",
    "\n",
    "task_runner()"
   ]
  }
 ],
 "metadata": {
  "kernelspec": {
   "display_name": "Python 3",
   "language": "python",
   "name": "python3"
  },
  "language_info": {
   "codemirror_mode": {
    "name": "ipython",
    "version": 3
   },
   "file_extension": ".py",
   "mimetype": "text/x-python",
   "name": "python",
   "nbconvert_exporter": "python",
   "pygments_lexer": "ipython3",
   "version": "3.8.8"
  }
 },
 "nbformat": 4,
 "nbformat_minor": 5
}
